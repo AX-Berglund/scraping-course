{
 "cells": [
  {
   "cell_type": "markdown",
   "metadata": {},
   "source": [
    "## Import libraries"
   ]
  },
  {
   "cell_type": "code",
   "execution_count": 84,
   "metadata": {},
   "outputs": [],
   "source": [
    "from selenium import webdriver\n",
    "from selenium.webdriver.common.by import By\n",
    "from selenium.webdriver.common.keys import Keys\n",
    "import time\n"
   ]
  },
  {
   "cell_type": "markdown",
   "metadata": {},
   "source": [
    "## Put credentials here"
   ]
  },
  {
   "cell_type": "code",
   "execution_count": 85,
   "metadata": {},
   "outputs": [],
   "source": [
    "my_username = \"axelberglund98@gmail.com\"\n",
    "my_password = \"Password_1\""
   ]
  },
  {
   "cell_type": "markdown",
   "metadata": {},
   "source": [
    "## Open Chrome Window"
   ]
  },
  {
   "cell_type": "code",
   "execution_count": 86,
   "metadata": {},
   "outputs": [],
   "source": [
    "# Initialize the WebDriver\n",
    "driver = webdriver.Chrome()\n",
    "time.sleep(3) \n"
   ]
  },
  {
   "cell_type": "markdown",
   "metadata": {},
   "source": [
    "## Goto the website"
   ]
  },
  {
   "cell_type": "code",
   "execution_count": 87,
   "metadata": {},
   "outputs": [],
   "source": [
    "driver.get(\"https://www.verychic.co.uk/login#signin\")\n",
    "time.sleep(5)\n"
   ]
  },
  {
   "cell_type": "markdown",
   "metadata": {},
   "source": [
    "## Press cookie button"
   ]
  },
  {
   "cell_type": "code",
   "execution_count": 88,
   "metadata": {},
   "outputs": [],
   "source": [
    "cookie_button = driver.find_element(By.CSS_SELECTOR, \"#onetrust-close-btn-container > button\")\n",
    "cookie_button.click()\n",
    "time.sleep(2)"
   ]
  },
  {
   "cell_type": "markdown",
   "metadata": {},
   "source": [
    "## Enter Username"
   ]
  },
  {
   "cell_type": "code",
   "execution_count": 89,
   "metadata": {},
   "outputs": [],
   "source": [
    "username_field = driver.find_element(By.CSS_SELECTOR, \"#input-108\")\n",
    "username_field.send_keys(my_username)\n",
    "time.sleep(1)"
   ]
  },
  {
   "cell_type": "markdown",
   "metadata": {},
   "source": [
    "## Enter Password"
   ]
  },
  {
   "cell_type": "code",
   "execution_count": 90,
   "metadata": {},
   "outputs": [],
   "source": [
    "password_field = driver.find_element(By.ID, \"input-111\")\n",
    "password_field.send_keys(my_password)\n",
    "time.sleep(1)\n"
   ]
  },
  {
   "cell_type": "markdown",
   "metadata": {},
   "source": [
    "## Press Login Button"
   ]
  },
  {
   "cell_type": "code",
   "execution_count": 91,
   "metadata": {},
   "outputs": [],
   "source": [
    "login_button = driver.find_element(By.CSS_SELECTOR, \"#loginContainer > div > div.main.mt-10 > div.form > div.v-card.v-card--flat.v-sheet.theme--light.rounded-0.transparent > div > div.v-window.v-item-group.theme--light.v-tabs-items > div > div.v-window-item.v-window-item--active > div > div > div.v-window-item.v-window-item--active > form > div.text-center > button\")  # Replace with the actual ID or selector\n",
    "login_button.click()\n",
    "time.sleep(5)\n"
   ]
  },
  {
   "cell_type": "markdown",
   "metadata": {},
   "source": [
    "## Now we are logged in"
   ]
  },
  {
   "cell_type": "markdown",
   "metadata": {},
   "source": [
    "## Press 'Later' in the popup window"
   ]
  },
  {
   "cell_type": "code",
   "execution_count": 92,
   "metadata": {},
   "outputs": [],
   "source": [
    "# press the later button\n",
    "later_button = driver.find_element(By.CSS_SELECTOR, \"body > div.omnisense-prompt.slide-enter > div > div.omnisense-prompt-footer > button.omnisense-btn.omnisense-later-btn\")\n",
    "later_button.click()"
   ]
  },
  {
   "cell_type": "markdown",
   "metadata": {},
   "source": [
    "## TODO: Get the data"
   ]
  },
  {
   "cell_type": "markdown",
   "metadata": {},
   "source": [
    "## Press the 'See all offers' button"
   ]
  },
  {
   "cell_type": "code",
   "execution_count": 93,
   "metadata": {},
   "outputs": [],
   "source": [
    "see_all_offers = driver.find_element(By.CSS_SELECTOR, \"#dynamic-hero > div.d-flex.justify-center.align-center.gap-sm.mt-2 > a:nth-child(1)\")\n",
    "see_all_offers.click()\n",
    "time.sleep(5)"
   ]
  },
  {
   "cell_type": "markdown",
   "metadata": {},
   "source": [
    "## Press 'See more products' in the bottom of the page"
   ]
  },
  {
   "cell_type": "code",
   "execution_count": 94,
   "metadata": {},
   "outputs": [],
   "source": [
    "see_more_products = driver.find_element(By.CSS_SELECTOR, \"#product-block-container > div.fade-bottom > button\")\n",
    "see_more_products.click()\n",
    "time.sleep(5)"
   ]
  },
  {
   "cell_type": "markdown",
   "metadata": {},
   "source": [
    "## Now all hotels are showing in the page, time to scrape the data"
   ]
  },
  {
   "cell_type": "code",
   "execution_count": 97,
   "metadata": {},
   "outputs": [],
   "source": [
    "list_of_hotels = driver.find_elements(By.CSS_SELECTOR, \"#product-block-container > div.blocks-grid.gap\")\n"
   ]
  },
  {
   "cell_type": "code",
   "execution_count": 104,
   "metadata": {},
   "outputs": [
    {
     "name": "stdout",
     "output_type": "stream",
     "text": [
      "MARRAKECH, MOROCCO\n",
      "MÖVENPICK MANSOUR EDDAHBI MARRAKECH ★★★★★\n",
      "Enchanted stay in the Red City.\n",
      "55% OFF\n",
      "133€\n",
      "\n",
      "Extracted hotel information:\n",
      "['MARRAKECH, MOROCCO\\nMÖVENPICK MANSOUR EDDAHBI MARRAKECH ★★★★★\\nEnchanted stay in the Red City.\\n55% OFF\\n133€']\n"
     ]
    }
   ],
   "source": [
    "\n",
    "# Initialize a list to store the extracted hotel information\n",
    "hotels_info = []\n",
    "\n",
    "# Iterate through the list of hotels\n",
    "for item in list_of_hotels:\n",
    "    try:\n",
    "        # Locate the specific element for hotel information within the item\n",
    "        hotel = item.find_element(By.XPATH, \"//*[@id=\"ORCHESTRA__31329\"]/a\")\n",
    "        //*[@id=\"ORCHESTRA__32151\"]/a\n",
    "        \n",
    "        # Extract and print the text\n",
    "        hotel_text = hotel.text\n",
    "        print(hotel_text)\n",
    "        print()\n",
    "        \n",
    "        # Store the text in the list\n",
    "        hotels_info.append(hotel_text)\n",
    "    except Exception as e:\n",
    "        print(f\"Error processing item: {e}\")\n",
    "\n",
    "# Now `hotels_info` contains all the wanted text\n",
    "print(\"Extracted hotel information:\")\n",
    "print(hotels_info)\n"
   ]
  },
  {
   "cell_type": "code",
   "execution_count": null,
   "metadata": {},
   "outputs": [],
   "source": [
    "\n",
    "# scrolling tool, one line command, scroll botttom \n",
    "\n",
    "# get from selenium the full html document\n",
    "#html = driver.page_source\n",
    "\n",
    "\n",
    "# Render beautifulsoup to get get the html\n",
    "\n",
    "#extract urls\n",
    "\n",
    "# Find all 'a'for example, and then extract the url\n",
    "\n"
   ]
  },
  {
   "cell_type": "markdown",
   "metadata": {},
   "source": [
    "## Quit"
   ]
  },
  {
   "cell_type": "code",
   "execution_count": 96,
   "metadata": {},
   "outputs": [],
   "source": [
    "# driver.quit()"
   ]
  },
  {
   "cell_type": "code",
   "execution_count": null,
   "metadata": {},
   "outputs": [],
   "source": []
  }
 ],
 "metadata": {
  "kernelspec": {
   "display_name": "absol-env",
   "language": "python",
   "name": "python3"
  },
  "language_info": {
   "codemirror_mode": {
    "name": "ipython",
    "version": 3
   },
   "file_extension": ".py",
   "mimetype": "text/x-python",
   "name": "python",
   "nbconvert_exporter": "python",
   "pygments_lexer": "ipython3",
   "version": "3.11.5"
  }
 },
 "nbformat": 4,
 "nbformat_minor": 2
}
