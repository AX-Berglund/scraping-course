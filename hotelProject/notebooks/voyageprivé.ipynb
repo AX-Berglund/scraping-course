{
 "cells": [
  {
   "cell_type": "markdown",
   "metadata": {},
   "source": [
    "## Import libraries"
   ]
  },
  {
   "cell_type": "code",
   "execution_count": 1,
   "metadata": {},
   "outputs": [],
   "source": [
    "from selenium import webdriver\n",
    "from selenium.webdriver.common.by import By\n",
    "from selenium.webdriver.common.keys import Keys\n",
    "import time\n",
    "from selenium.webdriver.common.action_chains import ActionChains\n",
    "import pandas as pd\n",
    "from datetime import datetime, timedelta\n",
    "import re\n",
    "\n"
   ]
  },
  {
   "cell_type": "markdown",
   "metadata": {},
   "source": [
    "## Put credentials here"
   ]
  },
  {
   "cell_type": "code",
   "execution_count": 2,
   "metadata": {},
   "outputs": [],
   "source": [
    "my_email = \"axelberglund98@gmail.com\"\n",
    "my_password = \"Password_1\"\n"
   ]
  },
  {
   "cell_type": "markdown",
   "metadata": {},
   "source": [
    "## Open Chrome Window"
   ]
  },
  {
   "cell_type": "code",
   "execution_count": 3,
   "metadata": {},
   "outputs": [],
   "source": [
    "# Initialize the WebDriver\n",
    "driver = webdriver.Chrome()\n",
    "time.sleep(3) \n"
   ]
  },
  {
   "cell_type": "markdown",
   "metadata": {},
   "source": [
    "## Goto the website"
   ]
  },
  {
   "cell_type": "markdown",
   "metadata": {},
   "source": []
  },
  {
   "cell_type": "code",
   "execution_count": 4,
   "metadata": {},
   "outputs": [],
   "source": [
    "driver.get(\"https://www.voyage-prive.co.uk/login/index#signin\")\n",
    "time.sleep(5)\n"
   ]
  },
  {
   "cell_type": "markdown",
   "metadata": {},
   "source": [
    "## Press cookie button"
   ]
  },
  {
   "cell_type": "code",
   "execution_count": 5,
   "metadata": {},
   "outputs": [],
   "source": [
    "#cookie_button=driver.find_element(By.CSS_SELECTOR, \"#onetrust-close-btn-container > button\")\n",
    "cookie_button=driver.find_element(By.CSS_SELECTOR, \"#cookieBanner > div > div.BannerContainer__buttons > button.Button.Button--light.Button--accept\")\n",
    "cookie_button.click()\n",
    "time.sleep(2)\n"
   ]
  },
  {
   "cell_type": "markdown",
   "metadata": {},
   "source": [
    "## Enter Username"
   ]
  },
  {
   "cell_type": "code",
   "execution_count": 6,
   "metadata": {},
   "outputs": [],
   "source": [
    "email_field = driver.find_element(By.CSS_SELECTOR, \"#reactLogin > div > div > div.Login__content > form > div > div > div:nth-child(1) > input[type=email]\")\n",
    "email_field.send_keys(my_email)\n",
    "time.sleep(1)\n"
   ]
  },
  {
   "cell_type": "markdown",
   "metadata": {},
   "source": [
    "## Enter Password"
   ]
  },
  {
   "cell_type": "code",
   "execution_count": 7,
   "metadata": {},
   "outputs": [],
   "source": [
    "#password_field = driver.find_element(By.ID, \"\")\n",
    "password_field = driver.find_element(By.CSS_SELECTOR, \"#reactLogin > div > div > div.Login__content > form > div > div > div.Login__line.passwordContainer > div > input\")\n",
    "password_field.send_keys(my_password)\n",
    "time.sleep(1)\n"
   ]
  },
  {
   "cell_type": "markdown",
   "metadata": {},
   "source": [
    "## Press Login Button"
   ]
  },
  {
   "cell_type": "code",
   "execution_count": 8,
   "metadata": {},
   "outputs": [],
   "source": [
    "login_button = driver.find_element(By.CSS_SELECTOR, \"#reactLogin > div > div > div.Login__content > form > div > div > div.Login__line.Login__line--spaced > button\")  # Replace with the actual ID or selector\n",
    "login_button.click()\n",
    "time.sleep(5)\n"
   ]
  },
  {
   "cell_type": "markdown",
   "metadata": {},
   "source": [
    "## Now we are logged in"
   ]
  },
  {
   "cell_type": "markdown",
   "metadata": {},
   "source": [
    "## Load all data by scrolling down"
   ]
  },
  {
   "cell_type": "code",
   "execution_count": 9,
   "metadata": {},
   "outputs": [],
   "source": [
    "\n",
    "# Scroll down the page gradually to load all content\n",
    "def scroll_to_bottom(driver):\n",
    "    last_height = driver.execute_script(\"return document.body.scrollHeight\")\n",
    "    \n",
    "    while True:\n",
    "        # Scroll down to the bottom\n",
    "        driver.execute_script(\"window.scrollTo(0, document.body.scrollHeight);\")\n",
    "        \n",
    "        # Wait to load the content\n",
    "        time.sleep(5)\n",
    "        \n",
    "        # Calculate new scroll height and compare with last scroll height\n",
    "        new_height = driver.execute_script(\"return document.body.scrollHeight\")\n",
    "        if new_height == last_height:\n",
    "            break\n",
    "        last_height = new_height\n",
    "\n",
    "scroll_to_bottom(driver)"
   ]
  },
  {
   "cell_type": "markdown",
   "metadata": {},
   "source": [
    "## TODO: Get the data"
   ]
  },
  {
   "cell_type": "code",
   "execution_count": 10,
   "metadata": {},
   "outputs": [],
   "source": [
    "def add_dates_to_dataframe(df):\n",
    "    \"\"\"\n",
    "    Add start_date and end_date columns to the DataFrame based on the current datetime\n",
    "    and the 'time_remaining' column.\n",
    "\n",
    "    Args:\n",
    "        df (pd.DataFrame): Input DataFrame containing 'time_remaining' column.\n",
    "\n",
    "    Returns:\n",
    "        pd.DataFrame: DataFrame with additional 'start_date' and 'end_date' columns.\n",
    "    \"\"\"\n",
    "    # Define the current datetime as the start date\n",
    "    current_datetime = datetime.now()\n",
    "\n",
    "    start_dates = []\n",
    "    end_dates = []\n",
    "\n",
    "    for time_remaining in df['time_remaining']:\n",
    "        # Check for time in days\n",
    "        match_days = re.search(r\"(\\d+)\\s*days?\", time_remaining, re.IGNORECASE)\n",
    "        if match_days:\n",
    "            days = int(match_days.group(1))\n",
    "            time_delta = timedelta(days=days)\n",
    "        else:\n",
    "            # Parse the hours and minutes\n",
    "            match_time = re.search(r\"(\\d+)h\\s*(\\d+)?m?\", time_remaining, re.IGNORECASE)\n",
    "            if match_time:\n",
    "                hours = int(match_time.group(1))\n",
    "                minutes = int(match_time.group(2)) if match_time.group(2) else 0\n",
    "                time_delta = timedelta(hours=hours, minutes=minutes)\n",
    "            else:\n",
    "                time_delta = timedelta()\n",
    "\n",
    "        end_datetime = current_datetime + time_delta\n",
    "\n",
    "        # Append the start and end dates\n",
    "        start_dates.append(current_datetime)\n",
    "        end_dates.append(end_datetime)\n",
    "\n",
    "    # Add the new columns to the DataFrame\n",
    "    df['start_date'] = start_dates\n",
    "    df['end_date'] = end_dates\n",
    "\n",
    "    return df"
   ]
  },
  {
   "cell_type": "markdown",
   "metadata": {},
   "source": [
    "## Remember to scroll down to get all the data"
   ]
  },
  {
   "cell_type": "code",
   "execution_count": 11,
   "metadata": {},
   "outputs": [],
   "source": [
    "# Supprimer les publicités \n",
    "# English : Remove ads\n",
    "ads = driver.find_elements(By.XPATH, \"//article[contains(@id, 'push-promo')]\")\n",
    "for ad in ads:\n",
    "    driver.execute_script(\"arguments[0].remove();\", ad)\n",
    "\n",
    "# Récupérer les hôtels après suppression des pubs\n",
    "# English : Get hotels after removing ads\n",
    "hotel_list = driver.find_element(By.CSS_SELECTOR,'#section-now> div')\n",
    "hotel_elements = hotel_list.find_elements(By.TAG_NAME, \"article\")\n",
    "\n",
    "hotel_sale_destination = []\n",
    "hotel_name = []\n",
    "hotel_sale_price = []\n",
    "hotel_sale_time_remaining = []\n",
    "exclusif = []\n",
    "\n",
    "for hotel in hotel_elements:\n",
    "    sale_content = None\n",
    "    sale_price = None\n",
    "    sale_time_remaining = None\n",
    "    sale_destination = None\n",
    "    name = None\n",
    "    exclusif_status = 'no'\n",
    "    \n",
    "    sub_elements1 = hotel.find_elements(By.TAG_NAME, \"a\")\n",
    "    if sub_elements1:\n",
    "        sub_elements2 = sub_elements1[0].find_elements(By.TAG_NAME, \"div\")\n",
    "        for element in sub_elements2:\n",
    "            class_name = element.get_attribute(\"class\")\n",
    "            if class_name == 'sale_content':\n",
    "                sale_content = element\n",
    "            elif class_name == 'sale_price':\n",
    "                sale_price = element.text\n",
    "                if sale_price == 'EXCLUSIF':\n",
    "                    exclusif_status = 'yes'\n",
    "\n",
    "                    # Ouvrir le lien de l'hôtel dans un nouvel onglet pour récupérer le prix réel\n",
    "                    link_element = hotel.find_element(By.TAG_NAME, \"a\")\n",
    "                    link_url = link_element.get_attribute(\"href\")\n",
    "                    driver.execute_script(\"window.open(arguments[0], '_blank');\", link_url)\n",
    "\n",
    "                    # Passer à l'onglet nouvellement ouvert\n",
    "                    driver.switch_to.window(driver.window_handles[-1])\n",
    "                    time.sleep(2)  # Attendre le chargement de la page\n",
    "\n",
    "                    try:\n",
    "                        sale_price = driver.find_element(By.CSS_SELECTOR, \".offer-price.details-price.euro\").text\n",
    "                    except:\n",
    "                        sale_price = \"N/A\"\n",
    "\n",
    "                    # Fermer l'onglet et revenir à l'onglet principal\n",
    "                    driver.close()\n",
    "                    driver.switch_to.window(driver.window_handles[0])\n",
    "\n",
    "            elif class_name == 'sale-time-remaining  specific-not-near ':\n",
    "                sale_time_remaining = element.text\n",
    "                \n",
    "        if sale_content:\n",
    "            sub_elements3 = sale_content.find_elements(By.TAG_NAME, \"span\")\n",
    "            for element in sub_elements3:\n",
    "                class_name = element.get_attribute(\"class\")\n",
    "                if class_name == 'sale-destination':\n",
    "                    sale_destination = element.text\n",
    "                elif class_name == 'hotel-name':\n",
    "                    name = element.text\n",
    "\n",
    "    \n",
    "    hotel_sale_price.append(sale_price or \"N/A\")\n",
    "    hotel_sale_time_remaining.append(sale_time_remaining or \"N/A\")\n",
    "    hotel_sale_destination.append(sale_destination or \"N/A\")\n",
    "    hotel_name.append(name or \"N/A\")\n",
    "    exclusif.append(exclusif_status)\n",
    "\n",
    "\n",
    "data = {\n",
    "    \"Country\": hotel_sale_destination,\n",
    "    \"hotel_name\": hotel_name,\n",
    "    \"price\": hotel_sale_price,\n",
    "    \"time_remaining\": hotel_sale_time_remaining,\n",
    "}\n",
    "df = pd.DataFrame(data)\n",
    "\n",
    "df = add_dates_to_dataframe(df)\n"
   ]
  },
  {
   "cell_type": "code",
   "execution_count": 63,
   "metadata": {},
   "outputs": [],
   "source": []
  },
  {
   "cell_type": "code",
   "execution_count": 12,
   "metadata": {},
   "outputs": [
    {
     "data": {
      "text/plain": [
       "(194, 6)"
      ]
     },
     "execution_count": 12,
     "metadata": {},
     "output_type": "execute_result"
    }
   ],
   "source": [
    "df.shape\n"
   ]
  },
  {
   "cell_type": "code",
   "execution_count": null,
   "metadata": {},
   "outputs": [
    {
     "name": "stdout",
     "output_type": "stream",
     "text": [
      "17_01_2025\n"
     ]
    }
   ],
   "source": [
    "# print todays date in a string\n",
    "today = datetime.today().strftime('%d_%m_%Y')\n"
   ]
  },
  {
   "cell_type": "code",
   "execution_count": 14,
   "metadata": {},
   "outputs": [],
   "source": [
    "\n",
    "# Sauvegarder le DataFrame dans un fichier Excel\n",
    "output_file = f\"voyageprive_hotels_{today}.csv\"\n"
   ]
  },
  {
   "cell_type": "code",
   "execution_count": 15,
   "metadata": {},
   "outputs": [
    {
     "name": "stdout",
     "output_type": "stream",
     "text": [
      "voyageprive_hotels_17_01_2025.csv\n"
     ]
    }
   ],
   "source": [
    "print(output_file)"
   ]
  },
  {
   "cell_type": "code",
   "execution_count": 16,
   "metadata": {},
   "outputs": [],
   "source": [
    "\n",
    "df.to_csv(output_file, index=False)\n"
   ]
  },
  {
   "cell_type": "code",
   "execution_count": 17,
   "metadata": {},
   "outputs": [
    {
     "data": {
      "text/html": [
       "<div>\n",
       "<style scoped>\n",
       "    .dataframe tbody tr th:only-of-type {\n",
       "        vertical-align: middle;\n",
       "    }\n",
       "\n",
       "    .dataframe tbody tr th {\n",
       "        vertical-align: top;\n",
       "    }\n",
       "\n",
       "    .dataframe thead th {\n",
       "        text-align: right;\n",
       "    }\n",
       "</style>\n",
       "<table border=\"1\" class=\"dataframe\">\n",
       "  <thead>\n",
       "    <tr style=\"text-align: right;\">\n",
       "      <th></th>\n",
       "      <th>Country</th>\n",
       "      <th>hotel_name</th>\n",
       "      <th>price</th>\n",
       "      <th>time_remaining</th>\n",
       "      <th>start_date</th>\n",
       "      <th>end_date</th>\n",
       "    </tr>\n",
       "  </thead>\n",
       "  <tbody>\n",
       "    <tr>\n",
       "      <th>0</th>\n",
       "      <td>INDIAN OCEAN / MALDIVES</td>\n",
       "      <td>Cinnamon Velifushi Maldives 5*</td>\n",
       "      <td>From\\n£850</td>\n",
       "      <td>10h 42m remaining</td>\n",
       "      <td>2025-01-10 14:17:25.833497</td>\n",
       "      <td>2025-01-11 00:59:25.833497</td>\n",
       "    </tr>\n",
       "    <tr>\n",
       "      <th>1</th>\n",
       "      <td>TURKEY / ISTANBUL, CAPPADOCIA &amp; PAMUKKALE</td>\n",
       "      <td>7-8 night tour: The wonders of Turkey</td>\n",
       "      <td>From\\n£365</td>\n",
       "      <td>10h 42m remaining</td>\n",
       "      <td>2025-01-10 14:17:25.833497</td>\n",
       "      <td>2025-01-11 00:59:25.833497</td>\n",
       "    </tr>\n",
       "    <tr>\n",
       "      <th>2</th>\n",
       "      <td>ITALY / ISCHIA</td>\n",
       "      <td>7 night trip: Neapolitan Bay</td>\n",
       "      <td>From\\n£567</td>\n",
       "      <td>10h 42m remaining</td>\n",
       "      <td>2025-01-10 14:17:25.833497</td>\n",
       "      <td>2025-01-11 00:59:25.833497</td>\n",
       "    </tr>\n",
       "    <tr>\n",
       "      <th>3</th>\n",
       "      <td>INDIA / DELHI, JAIPUR &amp; AGRA</td>\n",
       "      <td>7-11 night private tour: India and its Golden ...</td>\n",
       "      <td>From\\n£536</td>\n",
       "      <td>10h 42m remaining</td>\n",
       "      <td>2025-01-10 14:17:25.833497</td>\n",
       "      <td>2025-01-11 00:59:25.833497</td>\n",
       "    </tr>\n",
       "    <tr>\n",
       "      <th>4</th>\n",
       "      <td>EGYPT / SHARM EL SHEIKH</td>\n",
       "      <td>Grand Rotana Resort &amp; Spa 5*</td>\n",
       "      <td>Up to\\n-75%</td>\n",
       "      <td>10h 42m remaining</td>\n",
       "      <td>2025-01-10 14:17:25.833497</td>\n",
       "      <td>2025-01-11 00:59:25.833497</td>\n",
       "    </tr>\n",
       "  </tbody>\n",
       "</table>\n",
       "</div>"
      ],
      "text/plain": [
       "                                     Country  \\\n",
       "0                    INDIAN OCEAN / MALDIVES   \n",
       "1  TURKEY / ISTANBUL, CAPPADOCIA & PAMUKKALE   \n",
       "2                             ITALY / ISCHIA   \n",
       "3               INDIA / DELHI, JAIPUR & AGRA   \n",
       "4                    EGYPT / SHARM EL SHEIKH   \n",
       "\n",
       "                                          hotel_name        price  \\\n",
       "0                     Cinnamon Velifushi Maldives 5*   From\\n£850   \n",
       "1              7-8 night tour: The wonders of Turkey   From\\n£365   \n",
       "2                       7 night trip: Neapolitan Bay   From\\n£567   \n",
       "3  7-11 night private tour: India and its Golden ...   From\\n£536   \n",
       "4                       Grand Rotana Resort & Spa 5*  Up to\\n-75%   \n",
       "\n",
       "      time_remaining                 start_date                   end_date  \n",
       "0  10h 42m remaining 2025-01-10 14:17:25.833497 2025-01-11 00:59:25.833497  \n",
       "1  10h 42m remaining 2025-01-10 14:17:25.833497 2025-01-11 00:59:25.833497  \n",
       "2  10h 42m remaining 2025-01-10 14:17:25.833497 2025-01-11 00:59:25.833497  \n",
       "3  10h 42m remaining 2025-01-10 14:17:25.833497 2025-01-11 00:59:25.833497  \n",
       "4  10h 42m remaining 2025-01-10 14:17:25.833497 2025-01-11 00:59:25.833497  "
      ]
     },
     "execution_count": 17,
     "metadata": {},
     "output_type": "execute_result"
    }
   ],
   "source": [
    "df.head()"
   ]
  },
  {
   "cell_type": "markdown",
   "metadata": {},
   "source": [
    "## Quit"
   ]
  },
  {
   "cell_type": "code",
   "execution_count": 201,
   "metadata": {},
   "outputs": [],
   "source": [
    "driver.quit()"
   ]
  }
 ],
 "metadata": {
  "kernelspec": {
   "display_name": "absol-env",
   "language": "python",
   "name": "python3"
  },
  "language_info": {
   "codemirror_mode": {
    "name": "ipython",
    "version": 3
   },
   "file_extension": ".py",
   "mimetype": "text/x-python",
   "name": "python",
   "nbconvert_exporter": "python",
   "pygments_lexer": "ipython3",
   "version": "3.11.5"
  }
 },
 "nbformat": 4,
 "nbformat_minor": 2
}
