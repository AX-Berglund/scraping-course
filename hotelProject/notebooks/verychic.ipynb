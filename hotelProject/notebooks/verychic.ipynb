{
 "cells": [
  {
   "cell_type": "markdown",
   "metadata": {},
   "source": [
    "## Import libraries"
   ]
  },
  {
   "cell_type": "code",
   "execution_count": 11,
   "metadata": {},
   "outputs": [],
   "source": [
    "from selenium import webdriver\n",
    "from selenium.webdriver.common.by import By\n",
    "from selenium.webdriver.common.keys import Keys\n",
    "import time\n"
   ]
  },
  {
   "cell_type": "markdown",
   "metadata": {},
   "source": [
    "## Put credentials here"
   ]
  },
  {
   "cell_type": "code",
   "execution_count": 12,
   "metadata": {},
   "outputs": [],
   "source": [
    "my_username = \"axelberglund98@gmail.com\"\n",
    "my_password = \"Password_1\""
   ]
  },
  {
   "cell_type": "markdown",
   "metadata": {},
   "source": [
    "## Open Chrome Window"
   ]
  },
  {
   "cell_type": "code",
   "execution_count": 13,
   "metadata": {},
   "outputs": [],
   "source": [
    "# Initialize the WebDriver\n",
    "driver = webdriver.Chrome()\n",
    "time.sleep(3) \n"
   ]
  },
  {
   "cell_type": "markdown",
   "metadata": {},
   "source": [
    "## Goto the website"
   ]
  },
  {
   "cell_type": "code",
   "execution_count": 14,
   "metadata": {},
   "outputs": [],
   "source": [
    "driver.get(\"https://www.verychic.co.uk/login#signin\")\n",
    "time.sleep(5)\n"
   ]
  },
  {
   "cell_type": "markdown",
   "metadata": {},
   "source": [
    "## Press cookie button"
   ]
  },
  {
   "cell_type": "code",
   "execution_count": 15,
   "metadata": {},
   "outputs": [],
   "source": [
    "cookie_button = driver.find_element(By.CSS_SELECTOR, \"#onetrust-close-btn-container > button\")\n",
    "cookie_button.click()\n",
    "time.sleep(2)"
   ]
  },
  {
   "cell_type": "markdown",
   "metadata": {},
   "source": [
    "## Enter Username"
   ]
  },
  {
   "cell_type": "code",
   "execution_count": 16,
   "metadata": {},
   "outputs": [],
   "source": [
    "username_field = driver.find_element(By.CSS_SELECTOR, \"#input-108\")\n",
    "username_field.send_keys(my_username)\n",
    "time.sleep(1)"
   ]
  },
  {
   "cell_type": "markdown",
   "metadata": {},
   "source": [
    "## Enter Password"
   ]
  },
  {
   "cell_type": "code",
   "execution_count": 17,
   "metadata": {},
   "outputs": [],
   "source": [
    "password_field = driver.find_element(By.ID, \"input-111\")\n",
    "password_field.send_keys(my_password)\n",
    "time.sleep(1)\n"
   ]
  },
  {
   "cell_type": "markdown",
   "metadata": {},
   "source": [
    "## Press Login Button"
   ]
  },
  {
   "cell_type": "code",
   "execution_count": 18,
   "metadata": {},
   "outputs": [],
   "source": [
    "login_button = driver.find_element(By.CSS_SELECTOR, \"#loginContainer > div > div.main.mt-10 > div.form > div.v-card.v-card--flat.v-sheet.theme--light.rounded-0.transparent > div > div.v-window.v-item-group.theme--light.v-tabs-items > div > div.v-window-item.v-window-item--active > div > div > div.v-window-item.v-window-item--active > form > div.text-center > button\")  # Replace with the actual ID or selector\n",
    "login_button.click()\n",
    "time.sleep(5)\n"
   ]
  },
  {
   "cell_type": "markdown",
   "metadata": {},
   "source": [
    "## Now we are logged in"
   ]
  },
  {
   "cell_type": "markdown",
   "metadata": {},
   "source": [
    "## Press 'Later' in the popup window"
   ]
  },
  {
   "cell_type": "code",
   "execution_count": 19,
   "metadata": {},
   "outputs": [],
   "source": [
    "# press the later button\n",
    "later_button = driver.find_element(By.CSS_SELECTOR, \"body > div.omnisense-prompt.slide-enter > div > div.omnisense-prompt-footer > button.omnisense-btn.omnisense-later-btn\")\n",
    "later_button.click()"
   ]
  },
  {
   "cell_type": "markdown",
   "metadata": {},
   "source": [
    "## TODO: Get the data"
   ]
  },
  {
   "cell_type": "markdown",
   "metadata": {},
   "source": [
    "## Press the 'See all offers' button"
   ]
  },
  {
   "cell_type": "code",
   "execution_count": 20,
   "metadata": {},
   "outputs": [],
   "source": [
    "see_all_offers = driver.find_element(By.CSS_SELECTOR, \"#dynamic-hero > div.d-flex.justify-center.align-center.gap-sm.mt-2 > a:nth-child(1)\")\n",
    "see_all_offers.click()\n",
    "time.sleep(5)"
   ]
  },
  {
   "cell_type": "markdown",
   "metadata": {},
   "source": [
    "## Press 'See more products' in the bottom of the page"
   ]
  },
  {
   "cell_type": "code",
   "execution_count": 22,
   "metadata": {},
   "outputs": [],
   "source": [
    "see_more_products = driver.find_element(By.CSS_SELECTOR, \"#product-block-container > div.fade-bottom > button > span\")\n",
    "see_more_products.click()\n",
    "time.sleep(5)"
   ]
  },
  {
   "cell_type": "markdown",
   "metadata": {},
   "source": [
    "## Now all hotels are showing in the page, time to scrape the data"
   ]
  },
  {
   "cell_type": "code",
   "execution_count": 23,
   "metadata": {},
   "outputs": [],
   "source": [
    "list_of_hotels = driver.find_elements(By.CSS_SELECTOR, \"#product-block-container > div.blocks-grid.gap\")\n"
   ]
  },
  {
   "cell_type": "code",
   "execution_count": 24,
   "metadata": {},
   "outputs": [
    {
     "data": {
      "text/plain": [
       "[<selenium.webdriver.remote.webelement.WebElement (session=\"b05fc8aa9f5d7b9587ef2da856519c4a\", element=\"f.BB01AAC1BCEC518BD739A9C330B43AFC.d.8B09C47BE66203F6F87EA088E1F787D1.e.530\")>]"
      ]
     },
     "execution_count": 24,
     "metadata": {},
     "output_type": "execute_result"
    }
   ],
   "source": [
    "list_of_hotels"
   ]
  },
  {
   "cell_type": "code",
   "execution_count": 29,
   "metadata": {},
   "outputs": [],
   "source": [
    "hotel_list = driver.find_element(By.CSS_SELECTOR, \"#product-block-container > div.blocks-grid.gap\")\n",
    "#JS path"
   ]
  },
  {
   "cell_type": "code",
   "execution_count": 30,
   "metadata": {},
   "outputs": [],
   "source": [
    "\n",
    "hotel_elements = hotel_list.find_elements(By.TAG_NAME, \"article\")\n"
   ]
  },
  {
   "cell_type": "code",
   "execution_count": 38,
   "metadata": {},
   "outputs": [
    {
     "ename": "AttributeError",
     "evalue": "'WebElement' object has no attribute 'find'",
     "output_type": "error",
     "traceback": [
      "\u001b[0;31m---------------------------------------------------------------------------\u001b[0m",
      "\u001b[0;31mAttributeError\u001b[0m                            Traceback (most recent call last)",
      "Cell \u001b[0;32mIn[38], line 8\u001b[0m\n\u001b[1;32m      5\u001b[0m     a_element \u001b[38;5;241m=\u001b[39m figure_element\u001b[38;5;241m.\u001b[39mfind_element(By\u001b[38;5;241m.\u001b[39mTAG_NAME, \u001b[38;5;124m\"\u001b[39m\u001b[38;5;124ma\u001b[39m\u001b[38;5;124m\"\u001b[39m)\n\u001b[1;32m      6\u001b[0m     \u001b[38;5;28;01mif\u001b[39;00m a_element:\n\u001b[1;32m      7\u001b[0m         \u001b[38;5;66;03m# find div class\u001b[39;00m\n\u001b[0;32m----> 8\u001b[0m         div_element \u001b[38;5;241m=\u001b[39m \u001b[43ma_element\u001b[49m\u001b[38;5;241;43m.\u001b[39;49m\u001b[43mfind\u001b[49m(\u001b[38;5;124m\"\u001b[39m\u001b[38;5;124mdiv\u001b[39m\u001b[38;5;124m\"\u001b[39m, _class\u001b[38;5;241m=\u001b[39m\u001b[38;5;124m\"\u001b[39m\u001b[38;5;124mcountdown overlay-bg py-1 px-3 ml-auto\u001b[39m\u001b[38;5;124m\"\u001b[39m)\n\u001b[1;32m      9\u001b[0m         \u001b[38;5;28mprint\u001b[39m(div_element\u001b[38;5;241m.\u001b[39mtext)\n\u001b[1;32m     10\u001b[0m \u001b[38;5;28;01mbreak\u001b[39;00m\n",
      "\u001b[0;31mAttributeError\u001b[0m: 'WebElement' object has no attribute 'find'"
     ]
    }
   ],
   "source": [
    "for hotel in hotel_elements:\n",
    "    figure_element = hotel.find_element(By.TAG_NAME, \"figure\")\n",
    "    if figure_element:\n",
    "        # find a\n",
    "        a_element = figure_element.find_element(By.TAG_NAME, \"a\")\n",
    "        if a_element:\n",
    "            # find div class\n",
    "            div_element = a_element.find(\"div\", _class=\"countdown overlay-bg py-1 px-3 ml-auto\")\n",
    "            print(div_element.text)\n",
    "    break\n"
   ]
  },
  {
   "cell_type": "code",
   "execution_count": null,
   "metadata": {},
   "outputs": [],
   "source": [
    "\n",
    "    sub_element1 = hotel.find_elements(By.TAG_NAME, \"a\")\n",
    "    if sub_element1:\n",
    "        sub_elements2 = sub_element1[0].find_elements(By.TAG_NAME, \"div\")\n",
    "        for element in sub_elements2:\n",
    "            "
   ]
  },
  {
   "cell_type": "code",
   "execution_count": null,
   "metadata": {},
   "outputs": [],
   "source": [
    "# Supprimer les publicités \n",
    "# English : Remove ads\n",
    "ads = driver.find_elements(By.XPATH, \"//article[contains(@id, 'push-promo')]\")\n",
    "for ad in ads:\n",
    "    driver.execute_script(\"arguments[0].remove();\", ad)\n",
    "\n",
    "# Récupérer les hôtels après suppression des pubs\n",
    "# English : Get hotels after removing ads\n",
    "hotel_list = driver.find_element(By.CSS_SELECTOR,'#section-now> div')\n",
    "hotel_elements = hotel_list.find_elements(By.TAG_NAME, \"article\")\n",
    "\n",
    "hotel_sale_destination = []\n",
    "hotel_name = []\n",
    "hotel_sale_price = []\n",
    "hotel_sale_time_remaining = []\n",
    "exclusif = []\n",
    "\n",
    "for hotel in hotel_elements:\n",
    "    sale_content = None\n",
    "    sale_price = None\n",
    "    sale_time_remaining = None\n",
    "    sale_destination = None\n",
    "    name = None\n",
    "    exclusif_status = 'no'\n",
    "\n",
    "    figure_element = hotel.find_element(By.TAG_NAME, \"figure\")\n",
    "    if figure_element:\n",
    "        # find a\n",
    "        a_element = figure_element.find_element(By.TAG_NAME, \"a\")\n",
    "        if a_element:\n",
    "            # find span\n",
    "            span_element = a_element.find_element(By.TAG_NAME, \"span\")\n",
    "            print(span_element.text)\n",
    "    break\n",
    "\n"
   ]
  },
  {
   "cell_type": "code",
   "execution_count": null,
   "metadata": {},
   "outputs": [],
   "source": [
    "\n",
    "\n",
    "    \n",
    "    data_element = hotel.find_elements(By.TAG_NAME, \"a\")\n",
    "    if data_element:\n",
    "        sub_elements2 = data_element[0].find_elements(By.TAG_NAME, \"div\")\n",
    "        for element in sub_elements2:\n",
    "            class_name = element.get_attribute(\"class\")\n",
    "            if class_name == 'sale_content':\n",
    "                sale_content = element\n",
    "            elif class_name == 'sale_price':\n",
    "                sale_price = element.text\n",
    "                if sale_price == 'EXCLUSIF':\n",
    "                    exclusif_status = 'yes'\n",
    "\n",
    "                    # Ouvrir le lien de l'hôtel dans un nouvel onglet pour récupérer le prix réel\n",
    "                    link_element = hotel.find_element(By.TAG_NAME, \"a\")\n",
    "                    link_url = link_element.get_attribute(\"href\")\n",
    "                    driver.execute_script(\"window.open(arguments[0], '_blank');\", link_url)\n",
    "\n",
    "                    # Passer à l'onglet nouvellement ouvert\n",
    "                    driver.switch_to.window(driver.window_handles[-1])\n",
    "                    time.sleep(2)  # Attendre le chargement de la page\n",
    "\n",
    "                    try:\n",
    "                        sale_price = driver.find_element(By.CSS_SELECTOR, \".offer-price.details-price.euro\").text\n",
    "                    except:\n",
    "                        sale_price = \"N/A\"\n",
    "\n",
    "                    # Fermer l'onglet et revenir à l'onglet principal\n",
    "                    driver.close()\n",
    "                    driver.switch_to.window(driver.window_handles[0])\n",
    "\n",
    "            elif class_name == 'sale-time-remaining  specific-not-near ':\n",
    "                sale_time_remaining = element.text\n",
    "                \n",
    "        if sale_content:\n",
    "            sub_elements3 = sale_content.find_elements(By.TAG_NAME, \"span\")\n",
    "            for element in sub_elements3:\n",
    "                class_name = element.get_attribute(\"class\")\n",
    "                if class_name == 'sale-destination':\n",
    "                    sale_destination = element.text\n",
    "                elif class_name == 'hotel-name':\n",
    "                    name = element.text\n",
    "\n",
    "    \n",
    "    hotel_sale_price.append(sale_price or \"N/A\")\n",
    "    hotel_sale_time_remaining.append(sale_time_remaining or \"N/A\")\n",
    "    hotel_sale_destination.append(sale_destination or \"N/A\")\n",
    "    hotel_name.append(name or \"N/A\")\n",
    "    exclusif.append(exclusif_status)\n",
    "\n",
    "\n",
    "data = {\n",
    "    \"Destination\": hotel_sale_destination,\n",
    "    \"Nom de l'hôtel\": hotel_name,\n",
    "    \"Prix de vente\": hotel_sale_price,\n",
    "    \"time_remaining\": hotel_sale_time_remaining,\n",
    "}\n",
    "df = pd.DataFrame(data)\n",
    "\n",
    "df = add_dates_to_dataframe(df)\n"
   ]
  },
  {
   "cell_type": "code",
   "execution_count": 31,
   "metadata": {},
   "outputs": [
    {
     "data": {
      "text/plain": [
       "[<selenium.webdriver.remote.webelement.WebElement (session=\"b05fc8aa9f5d7b9587ef2da856519c4a\", element=\"f.BB01AAC1BCEC518BD739A9C330B43AFC.d.8B09C47BE66203F6F87EA088E1F787D1.e.1115\")>,\n",
       " <selenium.webdriver.remote.webelement.WebElement (session=\"b05fc8aa9f5d7b9587ef2da856519c4a\", element=\"f.BB01AAC1BCEC518BD739A9C330B43AFC.d.8B09C47BE66203F6F87EA088E1F787D1.e.1166\")>,\n",
       " <selenium.webdriver.remote.webelement.WebElement (session=\"b05fc8aa9f5d7b9587ef2da856519c4a\", element=\"f.BB01AAC1BCEC518BD739A9C330B43AFC.d.8B09C47BE66203F6F87EA088E1F787D1.e.1218\")>,\n",
       " <selenium.webdriver.remote.webelement.WebElement (session=\"b05fc8aa9f5d7b9587ef2da856519c4a\", element=\"f.BB01AAC1BCEC518BD739A9C330B43AFC.d.8B09C47BE66203F6F87EA088E1F787D1.e.267\")>,\n",
       " <selenium.webdriver.remote.webelement.WebElement (session=\"b05fc8aa9f5d7b9587ef2da856519c4a\", element=\"f.BB01AAC1BCEC518BD739A9C330B43AFC.d.8B09C47BE66203F6F87EA088E1F787D1.e.164\")>,\n",
       " <selenium.webdriver.remote.webelement.WebElement (session=\"b05fc8aa9f5d7b9587ef2da856519c4a\", element=\"f.BB01AAC1BCEC518BD739A9C330B43AFC.d.8B09C47BE66203F6F87EA088E1F787D1.e.166\")>,\n",
       " <selenium.webdriver.remote.webelement.WebElement (session=\"b05fc8aa9f5d7b9587ef2da856519c4a\", element=\"f.BB01AAC1BCEC518BD739A9C330B43AFC.d.8B09C47BE66203F6F87EA088E1F787D1.e.187\")>,\n",
       " <selenium.webdriver.remote.webelement.WebElement (session=\"b05fc8aa9f5d7b9587ef2da856519c4a\", element=\"f.BB01AAC1BCEC518BD739A9C330B43AFC.d.8B09C47BE66203F6F87EA088E1F787D1.e.206\")>,\n",
       " <selenium.webdriver.remote.webelement.WebElement (session=\"b05fc8aa9f5d7b9587ef2da856519c4a\", element=\"f.BB01AAC1BCEC518BD739A9C330B43AFC.d.8B09C47BE66203F6F87EA088E1F787D1.e.212\")>,\n",
       " <selenium.webdriver.remote.webelement.WebElement (session=\"b05fc8aa9f5d7b9587ef2da856519c4a\", element=\"f.BB01AAC1BCEC518BD739A9C330B43AFC.d.8B09C47BE66203F6F87EA088E1F787D1.e.1521\")>,\n",
       " <selenium.webdriver.remote.webelement.WebElement (session=\"b05fc8aa9f5d7b9587ef2da856519c4a\", element=\"f.BB01AAC1BCEC518BD739A9C330B43AFC.d.8B09C47BE66203F6F87EA088E1F787D1.e.217\")>,\n",
       " <selenium.webdriver.remote.webelement.WebElement (session=\"b05fc8aa9f5d7b9587ef2da856519c4a\", element=\"f.BB01AAC1BCEC518BD739A9C330B43AFC.d.8B09C47BE66203F6F87EA088E1F787D1.e.1613\")>,\n",
       " <selenium.webdriver.remote.webelement.WebElement (session=\"b05fc8aa9f5d7b9587ef2da856519c4a\", element=\"f.BB01AAC1BCEC518BD739A9C330B43AFC.d.8B09C47BE66203F6F87EA088E1F787D1.e.228\")>,\n",
       " <selenium.webdriver.remote.webelement.WebElement (session=\"b05fc8aa9f5d7b9587ef2da856519c4a\", element=\"f.BB01AAC1BCEC518BD739A9C330B43AFC.d.8B09C47BE66203F6F87EA088E1F787D1.e.1705\")>,\n",
       " <selenium.webdriver.remote.webelement.WebElement (session=\"b05fc8aa9f5d7b9587ef2da856519c4a\", element=\"f.BB01AAC1BCEC518BD739A9C330B43AFC.d.8B09C47BE66203F6F87EA088E1F787D1.e.3090\")>,\n",
       " <selenium.webdriver.remote.webelement.WebElement (session=\"b05fc8aa9f5d7b9587ef2da856519c4a\", element=\"f.BB01AAC1BCEC518BD739A9C330B43AFC.d.8B09C47BE66203F6F87EA088E1F787D1.e.3133\")>,\n",
       " <selenium.webdriver.remote.webelement.WebElement (session=\"b05fc8aa9f5d7b9587ef2da856519c4a\", element=\"f.BB01AAC1BCEC518BD739A9C330B43AFC.d.8B09C47BE66203F6F87EA088E1F787D1.e.3176\")>,\n",
       " <selenium.webdriver.remote.webelement.WebElement (session=\"b05fc8aa9f5d7b9587ef2da856519c4a\", element=\"f.BB01AAC1BCEC518BD739A9C330B43AFC.d.8B09C47BE66203F6F87EA088E1F787D1.e.3219\")>,\n",
       " <selenium.webdriver.remote.webelement.WebElement (session=\"b05fc8aa9f5d7b9587ef2da856519c4a\", element=\"f.BB01AAC1BCEC518BD739A9C330B43AFC.d.8B09C47BE66203F6F87EA088E1F787D1.e.3262\")>,\n",
       " <selenium.webdriver.remote.webelement.WebElement (session=\"b05fc8aa9f5d7b9587ef2da856519c4a\", element=\"f.BB01AAC1BCEC518BD739A9C330B43AFC.d.8B09C47BE66203F6F87EA088E1F787D1.e.3305\")>,\n",
       " <selenium.webdriver.remote.webelement.WebElement (session=\"b05fc8aa9f5d7b9587ef2da856519c4a\", element=\"f.BB01AAC1BCEC518BD739A9C330B43AFC.d.8B09C47BE66203F6F87EA088E1F787D1.e.3594\")>,\n",
       " <selenium.webdriver.remote.webelement.WebElement (session=\"b05fc8aa9f5d7b9587ef2da856519c4a\", element=\"f.BB01AAC1BCEC518BD739A9C330B43AFC.d.8B09C47BE66203F6F87EA088E1F787D1.e.3637\")>,\n",
       " <selenium.webdriver.remote.webelement.WebElement (session=\"b05fc8aa9f5d7b9587ef2da856519c4a\", element=\"f.BB01AAC1BCEC518BD739A9C330B43AFC.d.8B09C47BE66203F6F87EA088E1F787D1.e.3680\")>,\n",
       " <selenium.webdriver.remote.webelement.WebElement (session=\"b05fc8aa9f5d7b9587ef2da856519c4a\", element=\"f.BB01AAC1BCEC518BD739A9C330B43AFC.d.8B09C47BE66203F6F87EA088E1F787D1.e.3723\")>,\n",
       " <selenium.webdriver.remote.webelement.WebElement (session=\"b05fc8aa9f5d7b9587ef2da856519c4a\", element=\"f.BB01AAC1BCEC518BD739A9C330B43AFC.d.8B09C47BE66203F6F87EA088E1F787D1.e.3766\")>,\n",
       " <selenium.webdriver.remote.webelement.WebElement (session=\"b05fc8aa9f5d7b9587ef2da856519c4a\", element=\"f.BB01AAC1BCEC518BD739A9C330B43AFC.d.8B09C47BE66203F6F87EA088E1F787D1.e.3809\")>]"
      ]
     },
     "execution_count": 31,
     "metadata": {},
     "output_type": "execute_result"
    }
   ],
   "source": [
    "hotel_elements"
   ]
  },
  {
   "cell_type": "code",
   "execution_count": 13,
   "metadata": {},
   "outputs": [
    {
     "ename": "SyntaxError",
     "evalue": "invalid syntax. Perhaps you forgot a comma? (3433748516.py, line 8)",
     "output_type": "error",
     "traceback": [
      "\u001b[0;36m  Cell \u001b[0;32mIn[13], line 8\u001b[0;36m\u001b[0m\n\u001b[0;31m    hotel = item.find_element(By.XPATH, \"//*[@id=\"ORCHESTRA__31329\"]/a\")\u001b[0m\n\u001b[0m                                        ^\u001b[0m\n\u001b[0;31mSyntaxError\u001b[0m\u001b[0;31m:\u001b[0m invalid syntax. Perhaps you forgot a comma?\n"
     ]
    }
   ],
   "source": [
    "\n",
    "# Initialize a list to store the extracted hotel information\n",
    "hotels_info = []\n",
    "#product-block-container > div.blocks-grid.gap#product-block-container > div.blocks-grid.gap\n",
    "# Iterate through the list of hotels\n",
    "for item in list_of_hotels:\n",
    "    try:\n",
    "        # Locate the specific element for hotel information within the item\n",
    "        hotel = item.find_element(By.XPATH, \"//*[@id=\"ORCHESTRA__31329\"]/a\")\n",
    "        \n",
    "        # Extract and print the text\n",
    "        hotel_text = hotel.text\n",
    "        print(hotel_text)\n",
    "        print()\n",
    "        \n",
    "        # Store the text in the list\n",
    "        hotels_info.append(hotel_text)\n",
    "    except Exception as e:\n",
    "        print(f\"Error processing item: {e}\")\n",
    "\n",
    "# Now `hotels_info` contains all the wanted text\n",
    "print(\"Extracted hotel information:\")\n",
    "print(hotels_info)\n"
   ]
  },
  {
   "cell_type": "markdown",
   "metadata": {},
   "source": [
    "## TODO"
   ]
  },
  {
   "cell_type": "code",
   "execution_count": null,
   "metadata": {},
   "outputs": [],
   "source": [
    "\n",
    "# scrolling tool, one line command, scroll botttom \n",
    "\n",
    "# get from selenium the full html document\n",
    "#html = driver.page_source\n",
    "\n",
    "\n",
    "# Render beautifulsoup to get get the html\n",
    "\n",
    "#extract urls\n",
    "\n",
    "# Find all 'a'for example, and then extract the url\n",
    "\n"
   ]
  },
  {
   "cell_type": "markdown",
   "metadata": {},
   "source": [
    "## Quit"
   ]
  },
  {
   "cell_type": "code",
   "execution_count": 14,
   "metadata": {},
   "outputs": [],
   "source": [
    "driver.quit()"
   ]
  },
  {
   "cell_type": "code",
   "execution_count": null,
   "metadata": {},
   "outputs": [],
   "source": []
  }
 ],
 "metadata": {
  "kernelspec": {
   "display_name": "absol-env",
   "language": "python",
   "name": "python3"
  },
  "language_info": {
   "codemirror_mode": {
    "name": "ipython",
    "version": 3
   },
   "file_extension": ".py",
   "mimetype": "text/x-python",
   "name": "python",
   "nbconvert_exporter": "python",
   "pygments_lexer": "ipython3",
   "version": "3.11.5"
  }
 },
 "nbformat": 4,
 "nbformat_minor": 2
}
