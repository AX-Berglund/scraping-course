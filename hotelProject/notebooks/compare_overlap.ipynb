{
 "cells": [
  {
   "cell_type": "code",
   "execution_count": 1,
   "metadata": {},
   "outputs": [],
   "source": [
    "import pandas as pd\n"
   ]
  },
  {
   "cell_type": "code",
   "execution_count": 2,
   "metadata": {},
   "outputs": [],
   "source": [
    "def load_data(file1, file2):\n",
    "    df1 = pd.read_csv(file1)\n",
    "    df2 = pd.read_csv(file2)\n",
    "    return df1, df2\n",
    "\n",
    "def process_dataframe(df):\n",
    "    \"\"\"\n",
    "    Preprocess the 'hotel_name' column in the dataframe to standardize names by:\n",
    "    - Converting to lowercase\n",
    "    - Replacing accented characters with unaccented equivalents\n",
    "    - Removing spaces, special characters, and digits\n",
    "    - Removing common keywords like 'hotel'\n",
    "\n",
    "    Parameters:\n",
    "        df (pd.DataFrame): Dataframe with a 'hotel_name' column to preprocess.\n",
    "\n",
    "    Returns:\n",
    "        pd.DataFrame: Dataframe with the preprocessed 'hotel_name' column.\n",
    "    \"\"\"\n",
    "    df['hotel_name_original'] = df['hotel_name']\n",
    "    df['hotel_name'] = (\n",
    "        df['hotel_name']\n",
    "        .str.lower()\n",
    "        .str.replace('ô', 'o')\n",
    "        .str.replace('é', 'e')\n",
    "        .str.replace('è', 'e')\n",
    "        .str.replace('hotel', '')\n",
    "        .str.replace('1', '')\n",
    "        .str.replace('2', '')\n",
    "        .str.replace('3', '')\n",
    "        .str.replace('4', '')\n",
    "        .str.replace('5', '')\n",
    "        .str.replace('6', '')\n",
    "        .str.replace('7', '')\n",
    "        .str.replace('8', '')\n",
    "        .str.replace('9', '')\n",
    "        .str.replace('[^a-zA-Z0-9]', '', regex=True)  # Remove all special characters\n",
    "    )\n",
    "\n",
    "    # round dates to seconds to avoid floating point errors\n",
    "    df['start_date'] = pd.to_datetime(df['start_date']).dt.round('s')\n",
    "    df['end_date'] = pd.to_datetime(df['end_date']).dt.round('s')\n",
    "    return df\n",
    "\n",
    "def check_overlap_with_time(df1, df2):\n",
    "    \"\"\"\n",
    "    Adds a column 'overlap' to df1 indicating whether its rows overlap with any row in df2\n",
    "    where the hotel names match.\n",
    "\n",
    "    Parameters:\n",
    "        df1 (pd.DataFrame): First dataframe with 'start_date', 'end_date', and 'hotel_name' columns.\n",
    "        df2 (pd.DataFrame): Second dataframe with 'start_date', 'end_date', and 'hotel_name' columns.\n",
    "\n",
    "    Returns:\n",
    "        pd.DataFrame: Updated df1 with a new boolean column 'overlap'.\n",
    "    \"\"\"\n",
    "    def overlaps(row1, row2):\n",
    "        return not (row1['end_date'] < row2['start_date'] or row1['start_date'] > row2['end_date'])\n",
    "\n",
    "    overlaps_list = []\n",
    "    for _, row1 in df1.iterrows():\n",
    "        is_overlapping = any(\n",
    "            row1['hotel_name'] == row2['hotel_name'] and overlaps(row1, row2)\n",
    "            for _, row2 in df2.iterrows()\n",
    "        )\n",
    "        overlaps_list.append(is_overlapping)\n",
    "\n",
    "    df1['overlap_name_and_time'] = overlaps_list\n",
    "    return df1\n",
    "\n",
    "\n",
    "def print_names_of_hotels_that_overlap(df):\n",
    "    \"\"\"\n",
    "    Print the names of hotels that overlap between the two datasets.\n",
    "\n",
    "    Parameters:\n",
    "        df (pd.DataFrame): Dataframe with a 'hotel_name' column and an 'overlap' column.\n",
    "    \"\"\"    \n",
    "    overlapping_hotels = df[df['overlap_name_and_time'] == True]['hotel_name_original'].unique()\n",
    "    print(\"These hotels overlap:\")\n",
    "    for hotel in overlapping_hotels:\n",
    "        print(hotel)\n"
   ]
  },
  {
   "cell_type": "code",
   "execution_count": 4,
   "metadata": {},
   "outputs": [
    {
     "name": "stdout",
     "output_type": "stream",
     "text": [
      "These hotels overlap:\n",
      "Arrecife Gran Hotel & SPA *****\n",
      "Radisson Collection Hotel, Roma Antica *****\n",
      "Hôtel Le Louis Versailles Château MGallery ****\n",
      "UNAHOTELS Ala Venezia - Adults Only\n"
     ]
    }
   ],
   "source": [
    "file_path1 = '../data/verychic_hotels_10_01_2025.csv'\n",
    "file_path2 = '../data/voyageprive_hotels_10_01_2025.csv'\n",
    "\n",
    "\n",
    "\n",
    "df1, df2 = load_data(file_path1, file_path2)\n",
    "\n",
    "df1 = process_dataframe(df1)\n",
    "df2 = process_dataframe(df2)\n",
    "\n",
    "df1_with_overlap = check_overlap_with_time(df1, df2)\n",
    "\n",
    "print_names_of_hotels_that_overlap(df1_with_overlap)\n"
   ]
  },
  {
   "cell_type": "code",
   "execution_count": null,
   "metadata": {},
   "outputs": [],
   "source": []
  }
 ],
 "metadata": {
  "kernelspec": {
   "display_name": "absol-env",
   "language": "python",
   "name": "python3"
  },
  "language_info": {
   "codemirror_mode": {
    "name": "ipython",
    "version": 3
   },
   "file_extension": ".py",
   "mimetype": "text/x-python",
   "name": "python",
   "nbconvert_exporter": "python",
   "pygments_lexer": "ipython3",
   "version": "3.11.5"
  }
 },
 "nbformat": 4,
 "nbformat_minor": 2
}
